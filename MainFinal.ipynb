{
 "cells": [
  {
   "cell_type": "markdown",
   "id": "91362150",
   "metadata": {},
   "source": [
    "# Librairies et Import des données"
   ]
  },
  {
   "cell_type": "code",
   "execution_count": 1,
   "id": "46683e8b",
   "metadata": {},
   "outputs": [],
   "source": [
    "import pandas as pd #pour le travail sur dataset\n",
    "import numpy as np\n",
    "import os #pour obtenir le chemin (arborescence différente en fonction de l'ordinateur)\n",
    "import datetime as dt #pour travailler sur des périodes de temps\n",
    "import matplotlib.pyplot as plt #pour la réalisation de graphiques\n",
    "import seaborn as sns #pour la data visualisation \n",
    "import subPart1_2 as s #notre module"
   ]
  },
  {
   "cell_type": "markdown",
   "id": "569e5903",
   "metadata": {},
   "source": [
    "# Import des données"
   ]
  },
  {
   "cell_type": "markdown",
   "id": "c737e8ff",
   "metadata": {},
   "source": [
    "On considère que les fichiers sont dans le même dossier que ce notebook."
   ]
  },
  {
   "cell_type": "code",
   "execution_count": 2,
   "id": "0eb50105",
   "metadata": {},
   "outputs": [],
   "source": [
    "calendar= s.calendar\n",
    "listings= s.listings"
   ]
  },
  {
   "cell_type": "markdown",
   "id": "e3ebd2ce",
   "metadata": {},
   "source": [
    "# Sommaire\n",
    "1. [Partie 1](#Part1)\n",
    "    1. [Description des données](#Q0)\n",
    "    2. [Prix moyen des locations par quartier et représentation graphique](#Q1)\n",
    "    3. [Logements disponibles](#Q2)\n",
    "    4. [Déterminantes du prix de location](#Q3)\n",
    "    5. [Faire des économies et locations chères](#Q4)\n",
    "\n",
    "2. [Partie 2](#Part2)\n",
    "    1. [Contraintes=Prix/Nuit](#Q5)\n",
    "    2. [Type de location](#Q6)\n",
    "    3. [Choix Quartier](#Q7)\n",
    "    4. [Installations](#Q8)\n",
    "    5. [Disponibilité par date](#Q9)\n",
    "    6. [Barre de recherche](#QBonus)\n"
   ]
  },
  {
   "cell_type": "markdown",
   "id": "d0dc8a12",
   "metadata": {},
   "source": [
    "# Partie 1: Analyse descriptive des bases et visualisation <a name=\"Part1\"></a>"
   ]
  },
  {
   "cell_type": "markdown",
   "id": "191b8a30",
   "metadata": {},
   "source": [
    "### Description des données <a name=\"Q0\"></a>"
   ]
  },
  {
   "cell_type": "markdown",
   "id": "c5b4f739",
   "metadata": {},
   "source": [
    "#### Calendar"
   ]
  },
  {
   "cell_type": "code",
   "execution_count": 3,
   "id": "7d483b18",
   "metadata": {},
   "outputs": [
    {
     "name": "stdout",
     "output_type": "stream",
     "text": [
      "Il contient 1393570 observations et 4 variables. \n",
      "\n",
      "Les noms des colonnes de <calendar> sont : \n",
      " Index(['listing_id', 'date', 'available', 'price'], dtype='object')\n"
     ]
    }
   ],
   "source": [
    "print(\"Il contient\",calendar.shape[0],\"observations et\",calendar.shape[1],\"variables.\",\"\\n\")\n",
    "print(\"Les noms des colonnes de <calendar> sont :\",\"\\n\",calendar.columns)"
   ]
  },
  {
   "cell_type": "markdown",
   "id": "7080654f",
   "metadata": {},
   "source": [
    "#### Listings"
   ]
  },
  {
   "cell_type": "code",
   "execution_count": 4,
   "id": "6a326998",
   "metadata": {},
   "outputs": [
    {
     "name": "stdout",
     "output_type": "stream",
     "text": [
      "Voici une description statistique du fichier <listings> : \n"
     ]
    },
    {
     "data": {
      "text/html": [
       "<div>\n",
       "<style scoped>\n",
       "    .dataframe tbody tr th:only-of-type {\n",
       "        vertical-align: middle;\n",
       "    }\n",
       "\n",
       "    .dataframe tbody tr th {\n",
       "        vertical-align: top;\n",
       "    }\n",
       "\n",
       "    .dataframe thead th {\n",
       "        text-align: right;\n",
       "    }\n",
       "</style>\n",
       "<table border=\"1\" class=\"dataframe\">\n",
       "  <thead>\n",
       "    <tr style=\"text-align: right;\">\n",
       "      <th></th>\n",
       "      <th>id</th>\n",
       "      <th>scrape_id</th>\n",
       "      <th>host_id</th>\n",
       "      <th>host_listings_count</th>\n",
       "      <th>host_total_listings_count</th>\n",
       "      <th>latitude</th>\n",
       "      <th>longitude</th>\n",
       "      <th>accommodates</th>\n",
       "      <th>bathrooms</th>\n",
       "      <th>bedrooms</th>\n",
       "      <th>...</th>\n",
       "      <th>review_scores_rating</th>\n",
       "      <th>review_scores_accuracy</th>\n",
       "      <th>review_scores_cleanliness</th>\n",
       "      <th>review_scores_checkin</th>\n",
       "      <th>review_scores_communication</th>\n",
       "      <th>review_scores_location</th>\n",
       "      <th>review_scores_value</th>\n",
       "      <th>license</th>\n",
       "      <th>calculated_host_listings_count</th>\n",
       "      <th>reviews_per_month</th>\n",
       "    </tr>\n",
       "  </thead>\n",
       "  <tbody>\n",
       "    <tr>\n",
       "      <th>count</th>\n",
       "      <td>3.818000e+03</td>\n",
       "      <td>3.818000e+03</td>\n",
       "      <td>3.818000e+03</td>\n",
       "      <td>3816.000000</td>\n",
       "      <td>3816.000000</td>\n",
       "      <td>3818.000000</td>\n",
       "      <td>3818.000000</td>\n",
       "      <td>3818.000000</td>\n",
       "      <td>3802.000000</td>\n",
       "      <td>3812.000000</td>\n",
       "      <td>...</td>\n",
       "      <td>3171.000000</td>\n",
       "      <td>3160.000000</td>\n",
       "      <td>3165.000000</td>\n",
       "      <td>3160.000000</td>\n",
       "      <td>3167.000000</td>\n",
       "      <td>3163.000000</td>\n",
       "      <td>3162.000000</td>\n",
       "      <td>0.0</td>\n",
       "      <td>3818.000000</td>\n",
       "      <td>3191.000000</td>\n",
       "    </tr>\n",
       "    <tr>\n",
       "      <th>mean</th>\n",
       "      <td>5.550111e+06</td>\n",
       "      <td>2.016010e+13</td>\n",
       "      <td>1.578556e+07</td>\n",
       "      <td>7.157757</td>\n",
       "      <td>7.157757</td>\n",
       "      <td>47.628961</td>\n",
       "      <td>-122.333103</td>\n",
       "      <td>3.349398</td>\n",
       "      <td>1.259469</td>\n",
       "      <td>1.307712</td>\n",
       "      <td>...</td>\n",
       "      <td>94.539262</td>\n",
       "      <td>9.636392</td>\n",
       "      <td>9.556398</td>\n",
       "      <td>9.786709</td>\n",
       "      <td>9.809599</td>\n",
       "      <td>9.608916</td>\n",
       "      <td>9.452245</td>\n",
       "      <td>NaN</td>\n",
       "      <td>2.946307</td>\n",
       "      <td>2.078919</td>\n",
       "    </tr>\n",
       "    <tr>\n",
       "      <th>std</th>\n",
       "      <td>2.962660e+06</td>\n",
       "      <td>0.000000e+00</td>\n",
       "      <td>1.458382e+07</td>\n",
       "      <td>28.628149</td>\n",
       "      <td>28.628149</td>\n",
       "      <td>0.043052</td>\n",
       "      <td>0.031745</td>\n",
       "      <td>1.977599</td>\n",
       "      <td>0.590369</td>\n",
       "      <td>0.883395</td>\n",
       "      <td>...</td>\n",
       "      <td>6.606083</td>\n",
       "      <td>0.698031</td>\n",
       "      <td>0.797274</td>\n",
       "      <td>0.595499</td>\n",
       "      <td>0.568211</td>\n",
       "      <td>0.629053</td>\n",
       "      <td>0.750259</td>\n",
       "      <td>NaN</td>\n",
       "      <td>5.893029</td>\n",
       "      <td>1.822348</td>\n",
       "    </tr>\n",
       "    <tr>\n",
       "      <th>min</th>\n",
       "      <td>3.335000e+03</td>\n",
       "      <td>2.016010e+13</td>\n",
       "      <td>4.193000e+03</td>\n",
       "      <td>1.000000</td>\n",
       "      <td>1.000000</td>\n",
       "      <td>47.505088</td>\n",
       "      <td>-122.417219</td>\n",
       "      <td>1.000000</td>\n",
       "      <td>0.000000</td>\n",
       "      <td>0.000000</td>\n",
       "      <td>...</td>\n",
       "      <td>20.000000</td>\n",
       "      <td>2.000000</td>\n",
       "      <td>3.000000</td>\n",
       "      <td>2.000000</td>\n",
       "      <td>2.000000</td>\n",
       "      <td>4.000000</td>\n",
       "      <td>2.000000</td>\n",
       "      <td>NaN</td>\n",
       "      <td>1.000000</td>\n",
       "      <td>0.020000</td>\n",
       "    </tr>\n",
       "    <tr>\n",
       "      <th>25%</th>\n",
       "      <td>3.258256e+06</td>\n",
       "      <td>2.016010e+13</td>\n",
       "      <td>3.275204e+06</td>\n",
       "      <td>1.000000</td>\n",
       "      <td>1.000000</td>\n",
       "      <td>47.609418</td>\n",
       "      <td>-122.354320</td>\n",
       "      <td>2.000000</td>\n",
       "      <td>1.000000</td>\n",
       "      <td>1.000000</td>\n",
       "      <td>...</td>\n",
       "      <td>93.000000</td>\n",
       "      <td>9.000000</td>\n",
       "      <td>9.000000</td>\n",
       "      <td>10.000000</td>\n",
       "      <td>10.000000</td>\n",
       "      <td>9.000000</td>\n",
       "      <td>9.000000</td>\n",
       "      <td>NaN</td>\n",
       "      <td>1.000000</td>\n",
       "      <td>0.695000</td>\n",
       "    </tr>\n",
       "    <tr>\n",
       "      <th>50%</th>\n",
       "      <td>6.118244e+06</td>\n",
       "      <td>2.016010e+13</td>\n",
       "      <td>1.055814e+07</td>\n",
       "      <td>1.000000</td>\n",
       "      <td>1.000000</td>\n",
       "      <td>47.623601</td>\n",
       "      <td>-122.328874</td>\n",
       "      <td>3.000000</td>\n",
       "      <td>1.000000</td>\n",
       "      <td>1.000000</td>\n",
       "      <td>...</td>\n",
       "      <td>96.000000</td>\n",
       "      <td>10.000000</td>\n",
       "      <td>10.000000</td>\n",
       "      <td>10.000000</td>\n",
       "      <td>10.000000</td>\n",
       "      <td>10.000000</td>\n",
       "      <td>10.000000</td>\n",
       "      <td>NaN</td>\n",
       "      <td>1.000000</td>\n",
       "      <td>1.540000</td>\n",
       "    </tr>\n",
       "    <tr>\n",
       "      <th>75%</th>\n",
       "      <td>8.035127e+06</td>\n",
       "      <td>2.016010e+13</td>\n",
       "      <td>2.590309e+07</td>\n",
       "      <td>3.000000</td>\n",
       "      <td>3.000000</td>\n",
       "      <td>47.662694</td>\n",
       "      <td>-122.310800</td>\n",
       "      <td>4.000000</td>\n",
       "      <td>1.000000</td>\n",
       "      <td>2.000000</td>\n",
       "      <td>...</td>\n",
       "      <td>99.000000</td>\n",
       "      <td>10.000000</td>\n",
       "      <td>10.000000</td>\n",
       "      <td>10.000000</td>\n",
       "      <td>10.000000</td>\n",
       "      <td>10.000000</td>\n",
       "      <td>10.000000</td>\n",
       "      <td>NaN</td>\n",
       "      <td>2.000000</td>\n",
       "      <td>3.000000</td>\n",
       "    </tr>\n",
       "    <tr>\n",
       "      <th>max</th>\n",
       "      <td>1.034016e+07</td>\n",
       "      <td>2.016010e+13</td>\n",
       "      <td>5.320861e+07</td>\n",
       "      <td>502.000000</td>\n",
       "      <td>502.000000</td>\n",
       "      <td>47.733358</td>\n",
       "      <td>-122.240607</td>\n",
       "      <td>16.000000</td>\n",
       "      <td>8.000000</td>\n",
       "      <td>7.000000</td>\n",
       "      <td>...</td>\n",
       "      <td>100.000000</td>\n",
       "      <td>10.000000</td>\n",
       "      <td>10.000000</td>\n",
       "      <td>10.000000</td>\n",
       "      <td>10.000000</td>\n",
       "      <td>10.000000</td>\n",
       "      <td>10.000000</td>\n",
       "      <td>NaN</td>\n",
       "      <td>37.000000</td>\n",
       "      <td>12.150000</td>\n",
       "    </tr>\n",
       "  </tbody>\n",
       "</table>\n",
       "<p>8 rows × 30 columns</p>\n",
       "</div>"
      ],
      "text/plain": [
       "                 id     scrape_id       host_id  host_listings_count  \\\n",
       "count  3.818000e+03  3.818000e+03  3.818000e+03          3816.000000   \n",
       "mean   5.550111e+06  2.016010e+13  1.578556e+07             7.157757   \n",
       "std    2.962660e+06  0.000000e+00  1.458382e+07            28.628149   \n",
       "min    3.335000e+03  2.016010e+13  4.193000e+03             1.000000   \n",
       "25%    3.258256e+06  2.016010e+13  3.275204e+06             1.000000   \n",
       "50%    6.118244e+06  2.016010e+13  1.055814e+07             1.000000   \n",
       "75%    8.035127e+06  2.016010e+13  2.590309e+07             3.000000   \n",
       "max    1.034016e+07  2.016010e+13  5.320861e+07           502.000000   \n",
       "\n",
       "       host_total_listings_count     latitude    longitude  accommodates  \\\n",
       "count                3816.000000  3818.000000  3818.000000   3818.000000   \n",
       "mean                    7.157757    47.628961  -122.333103      3.349398   \n",
       "std                    28.628149     0.043052     0.031745      1.977599   \n",
       "min                     1.000000    47.505088  -122.417219      1.000000   \n",
       "25%                     1.000000    47.609418  -122.354320      2.000000   \n",
       "50%                     1.000000    47.623601  -122.328874      3.000000   \n",
       "75%                     3.000000    47.662694  -122.310800      4.000000   \n",
       "max                   502.000000    47.733358  -122.240607     16.000000   \n",
       "\n",
       "         bathrooms     bedrooms  ...  review_scores_rating  \\\n",
       "count  3802.000000  3812.000000  ...           3171.000000   \n",
       "mean      1.259469     1.307712  ...             94.539262   \n",
       "std       0.590369     0.883395  ...              6.606083   \n",
       "min       0.000000     0.000000  ...             20.000000   \n",
       "25%       1.000000     1.000000  ...             93.000000   \n",
       "50%       1.000000     1.000000  ...             96.000000   \n",
       "75%       1.000000     2.000000  ...             99.000000   \n",
       "max       8.000000     7.000000  ...            100.000000   \n",
       "\n",
       "       review_scores_accuracy  review_scores_cleanliness  \\\n",
       "count             3160.000000                3165.000000   \n",
       "mean                 9.636392                   9.556398   \n",
       "std                  0.698031                   0.797274   \n",
       "min                  2.000000                   3.000000   \n",
       "25%                  9.000000                   9.000000   \n",
       "50%                 10.000000                  10.000000   \n",
       "75%                 10.000000                  10.000000   \n",
       "max                 10.000000                  10.000000   \n",
       "\n",
       "       review_scores_checkin  review_scores_communication  \\\n",
       "count            3160.000000                  3167.000000   \n",
       "mean                9.786709                     9.809599   \n",
       "std                 0.595499                     0.568211   \n",
       "min                 2.000000                     2.000000   \n",
       "25%                10.000000                    10.000000   \n",
       "50%                10.000000                    10.000000   \n",
       "75%                10.000000                    10.000000   \n",
       "max                10.000000                    10.000000   \n",
       "\n",
       "       review_scores_location  review_scores_value  license  \\\n",
       "count             3163.000000          3162.000000      0.0   \n",
       "mean                 9.608916             9.452245      NaN   \n",
       "std                  0.629053             0.750259      NaN   \n",
       "min                  4.000000             2.000000      NaN   \n",
       "25%                  9.000000             9.000000      NaN   \n",
       "50%                 10.000000            10.000000      NaN   \n",
       "75%                 10.000000            10.000000      NaN   \n",
       "max                 10.000000            10.000000      NaN   \n",
       "\n",
       "       calculated_host_listings_count  reviews_per_month  \n",
       "count                     3818.000000        3191.000000  \n",
       "mean                         2.946307           2.078919  \n",
       "std                          5.893029           1.822348  \n",
       "min                          1.000000           0.020000  \n",
       "25%                          1.000000           0.695000  \n",
       "50%                          1.000000           1.540000  \n",
       "75%                          2.000000           3.000000  \n",
       "max                         37.000000          12.150000  \n",
       "\n",
       "[8 rows x 30 columns]"
      ]
     },
     "execution_count": 4,
     "metadata": {},
     "output_type": "execute_result"
    }
   ],
   "source": [
    "print(\"Voici une description statistique du fichier <listings> : \")\n",
    "listings.describe()"
   ]
  },
  {
   "cell_type": "code",
   "execution_count": 5,
   "id": "fec95f4a",
   "metadata": {},
   "outputs": [
    {
     "name": "stdout",
     "output_type": "stream",
     "text": [
      "Il contient 3818 observations et 92 variables. \n",
      "\n",
      "Les noms des colonnes de <listings> sont :\n",
      " \n",
      " Index(['id', 'listing_url', 'scrape_id', 'last_scraped', 'name', 'summary',\n",
      "       'space', 'description', 'experiences_offered', 'neighborhood_overview',\n",
      "       'notes', 'transit', 'thumbnail_url', 'medium_url', 'picture_url',\n",
      "       'xl_picture_url', 'host_id', 'host_url', 'host_name', 'host_since',\n",
      "       'host_location', 'host_about', 'host_response_time',\n",
      "       'host_response_rate', 'host_acceptance_rate', 'host_is_superhost',\n",
      "       'host_thumbnail_url', 'host_picture_url', 'host_neighbourhood',\n",
      "       'host_listings_count', 'host_total_listings_count',\n",
      "       'host_verifications', 'host_has_profile_pic', 'host_identity_verified',\n",
      "       'street', 'neighbourhood', 'neighbourhood_cleansed',\n",
      "       'neighbourhood_group_cleansed', 'city', 'state', 'zipcode', 'market',\n",
      "       'smart_location', 'country_code', 'country', 'latitude', 'longitude',\n",
      "       'is_location_exact', 'property_type', 'room_type', 'accommodates',\n",
      "       'bathrooms', 'bedrooms', 'beds', 'bed_type', 'amenities', 'square_feet',\n",
      "       'price', 'weekly_price', 'monthly_price', 'security_deposit',\n",
      "       'cleaning_fee', 'guests_included', 'extra_people', 'minimum_nights',\n",
      "       'maximum_nights', 'calendar_updated', 'has_availability',\n",
      "       'availability_30', 'availability_60', 'availability_90',\n",
      "       'availability_365', 'calendar_last_scraped', 'number_of_reviews',\n",
      "       'first_review', 'last_review', 'review_scores_rating',\n",
      "       'review_scores_accuracy', 'review_scores_cleanliness',\n",
      "       'review_scores_checkin', 'review_scores_communication',\n",
      "       'review_scores_location', 'review_scores_value', 'requires_license',\n",
      "       'license', 'jurisdiction_names', 'instant_bookable',\n",
      "       'cancellation_policy', 'require_guest_profile_picture',\n",
      "       'require_guest_phone_verification', 'calculated_host_listings_count',\n",
      "       'reviews_per_month'],\n",
      "      dtype='object')\n"
     ]
    }
   ],
   "source": [
    "print(\"Il contient\",listings.shape[0],\"observations et\",listings.shape[1],\"variables.\",\"\\n\")\n",
    "print(\"Les noms des colonnes de <listings> sont :\\n\",\"\\n\",listings.columns)"
   ]
  },
  {
   "cell_type": "markdown",
   "id": "f378c03b",
   "metadata": {},
   "source": [
    "### Nettoyage pour la partie 1"
   ]
  },
  {
   "cell_type": "code",
   "execution_count": 6,
   "id": "d01671ea",
   "metadata": {},
   "outputs": [
    {
     "name": "stderr",
     "output_type": "stream",
     "text": [
      "C:\\Users\\yjsem\\Documents\\Projet\\ProjetPy\\sujet_1_HUANG_JSEM_LIU_ZHOU\\subPart1_2.py:35: FutureWarning: The default value of regex will change from True to False in a future version. In addition, single character regular expressions will *not* be treated as literal strings when regex=True.\n",
      "  listings[\"price_dollar\"] = listings[\"price\"].str.replace('$','')# $ est un caractère spécial qui nous empêche de traiter les prix comme des type float\n",
      "C:\\Users\\yjsem\\Documents\\Projet\\ProjetPy\\sujet_1_HUANG_JSEM_LIU_ZHOU\\subPart1_2.py:37: SettingWithCopyWarning: \n",
      "A value is trying to be set on a copy of a slice from a DataFrame\n",
      "\n",
      "See the caveats in the documentation: https://pandas.pydata.org/pandas-docs/stable/user_guide/indexing.html#returning-a-view-versus-a-copy\n",
      "  listings[\"price_dollar\"][3122] = listings[\"price_dollar\"][3122].replace(\",\",\"\")\n",
      "C:\\Users\\yjsem\\Documents\\Projet\\ProjetPy\\sujet_1_HUANG_JSEM_LIU_ZHOU\\subPart1_2.py:58: FutureWarning: The default value of regex will change from True to False in a future version. In addition, single character regular expressions will *not* be treated as literal strings when regex=True.\n",
      "  calendar[\"price_dollar\"] = calendar[\"price\"].str.replace('$','')\n"
     ]
    }
   ],
   "source": [
    "s.nettoyage1()"
   ]
  },
  {
   "cell_type": "markdown",
   "id": "e3e3b407",
   "metadata": {},
   "source": [
    "### Prix moyen des locations par quartier et représentation graphique <a name=\"Q1\"></a>"
   ]
  },
  {
   "cell_type": "markdown",
   "id": "23d6f4fb",
   "metadata": {},
   "source": [
    "#### Prix des locations par quartier"
   ]
  },
  {
   "cell_type": "code",
   "execution_count": 7,
   "id": "10125b77",
   "metadata": {
    "scrolled": false
   },
   "outputs": [
    {
     "name": "stdout",
     "output_type": "stream",
     "text": [
      "Le prix moyen par quartier est :\n"
     ]
    },
    {
     "data": {
      "text/html": [
       "<div>\n",
       "<style scoped>\n",
       "    .dataframe tbody tr th:only-of-type {\n",
       "        vertical-align: middle;\n",
       "    }\n",
       "\n",
       "    .dataframe tbody tr th {\n",
       "        vertical-align: top;\n",
       "    }\n",
       "\n",
       "    .dataframe thead th {\n",
       "        text-align: right;\n",
       "    }\n",
       "</style>\n",
       "<table border=\"1\" class=\"dataframe\">\n",
       "  <thead>\n",
       "    <tr style=\"text-align: right;\">\n",
       "      <th></th>\n",
       "      <th>price_float</th>\n",
       "    </tr>\n",
       "    <tr>\n",
       "      <th>neighbourhood_cleansed</th>\n",
       "      <th></th>\n",
       "    </tr>\n",
       "  </thead>\n",
       "  <tbody>\n",
       "    <tr>\n",
       "      <th>Adams</th>\n",
       "      <td>121.671429</td>\n",
       "    </tr>\n",
       "    <tr>\n",
       "      <th>Alki</th>\n",
       "      <td>171.619048</td>\n",
       "    </tr>\n",
       "    <tr>\n",
       "      <th>Arbor Heights</th>\n",
       "      <td>126.800000</td>\n",
       "    </tr>\n",
       "    <tr>\n",
       "      <th>Atlantic</th>\n",
       "      <td>111.396226</td>\n",
       "    </tr>\n",
       "    <tr>\n",
       "      <th>Belltown</th>\n",
       "      <td>162.893162</td>\n",
       "    </tr>\n",
       "    <tr>\n",
       "      <th>...</th>\n",
       "      <td>...</td>\n",
       "    </tr>\n",
       "    <tr>\n",
       "      <th>West Woodland</th>\n",
       "      <td>124.343750</td>\n",
       "    </tr>\n",
       "    <tr>\n",
       "      <th>Westlake</th>\n",
       "      <td>194.470588</td>\n",
       "    </tr>\n",
       "    <tr>\n",
       "      <th>Whittier Heights</th>\n",
       "      <td>128.653846</td>\n",
       "    </tr>\n",
       "    <tr>\n",
       "      <th>Windermere</th>\n",
       "      <td>169.900000</td>\n",
       "    </tr>\n",
       "    <tr>\n",
       "      <th>Yesler Terrace</th>\n",
       "      <td>116.235294</td>\n",
       "    </tr>\n",
       "  </tbody>\n",
       "</table>\n",
       "<p>87 rows × 1 columns</p>\n",
       "</div>"
      ],
      "text/plain": [
       "                        price_float\n",
       "neighbourhood_cleansed             \n",
       "Adams                    121.671429\n",
       "Alki                     171.619048\n",
       "Arbor Heights            126.800000\n",
       "Atlantic                 111.396226\n",
       "Belltown                 162.893162\n",
       "...                             ...\n",
       "West Woodland            124.343750\n",
       "Westlake                 194.470588\n",
       "Whittier Heights         128.653846\n",
       "Windermere               169.900000\n",
       "Yesler Terrace           116.235294\n",
       "\n",
       "[87 rows x 1 columns]"
      ]
     },
     "execution_count": 7,
     "metadata": {},
     "output_type": "execute_result"
    }
   ],
   "source": [
    "print(\"Le prix moyen par quartier est :\")\n",
    "listings[[\"price_float\",\"neighbourhood_cleansed\"]].groupby([\"neighbourhood_cleansed\"]).mean()"
   ]
  },
  {
   "cell_type": "code",
   "execution_count": 8,
   "id": "6b6f296d",
   "metadata": {},
   "outputs": [
    {
     "data": {
      "text/plain": [
       "[]"
      ]
     },
     "execution_count": 8,
     "metadata": {},
     "output_type": "execute_result"
    },
    {
     "data": {
      "image/png": "[encoded data removed]",
      "text/plain": [
       "<Figure size 1440x576 with 1 Axes>"
      ]
     },
     "metadata": {
      "needs_background": "light"
     },
     "output_type": "display_data"
    }
   ],
   "source": [
    "# graphique de prix par quartiers\n",
    "\n",
    "fig, ax = plt.subplots(figsize=(20, 8))\n",
    "\n",
    "sns.barplot(x=\"neighbourhood_cleansed\", y=\"price_float\", ci=None, data=listings)\n",
    "ax.set_xticklabels(ax.get_xticklabels(), rotation=65,horizontalalignment='right')\n",
    "\n",
    "plt.title(\"Prix moyen en fonction des quartiers de Seattle\")\n",
    "plt.ylabel(\"Prix\")\n",
    "plt.xlabel(\"Quartiers de Seattle\")\n",
    "plt.plot()"
   ]
  },
  {
   "cell_type": "markdown",
   "id": "29e388d8",
   "metadata": {},
   "source": [
    "Pour une meilleure visibilité on va utilise les quartiers regroupés et nettoyé (sans valeurs nulles)"
   ]
  },
  {
   "cell_type": "code",
   "execution_count": 9,
   "id": "affb2aeb",
   "metadata": {},
   "outputs": [
    {
     "data": {
      "text/plain": [
       "[]"
      ]
     },
     "execution_count": 9,
     "metadata": {},
     "output_type": "execute_result"
    },
    {
     "data": {
      "image/png": "[encoded data removed]",
      "text/plain": [
       "<Figure size 1440x288 with 1 Axes>"
      ]
     },
     "metadata": {
      "needs_background": "light"
     },
     "output_type": "display_data"
    }
   ],
   "source": [
    "fig, ax = plt.subplots(figsize=(20, 4))\n",
    "\n",
    "sns.barplot(x=\"neighbourhood_group_cleansed\", y=\"price_float\", ci=None, data=listings)\n",
    "ax.set_xticklabels(ax.get_xticklabels(), rotation=45, horizontalalignment='right')\n",
    "\n",
    "plt.title(\"Prix moyen en fonction du quartier de Seattle (version quartiers regroupés)\")\n",
    "plt.ylabel(\"Prix\")\n",
    "plt.xlabel(\"Quartiers de Seattle\")\n",
    "plt.plot()"
   ]
  },
  {
   "cell_type": "code",
   "execution_count": 10,
   "id": "33f0e3cf",
   "metadata": {},
   "outputs": [
    {
     "name": "stdout",
     "output_type": "stream",
     "text": [
      "Le prix moyen par quartier puis par logement est :\n"
     ]
    },
    {
     "data": {
      "text/html": [
       "<div>\n",
       "<style scoped>\n",
       "    .dataframe tbody tr th:only-of-type {\n",
       "        vertical-align: middle;\n",
       "    }\n",
       "\n",
       "    .dataframe tbody tr th {\n",
       "        vertical-align: top;\n",
       "    }\n",
       "\n",
       "    .dataframe thead th {\n",
       "        text-align: right;\n",
       "    }\n",
       "</style>\n",
       "<table border=\"1\" class=\"dataframe\">\n",
       "  <thead>\n",
       "    <tr style=\"text-align: right;\">\n",
       "      <th></th>\n",
       "      <th></th>\n",
       "      <th>price_float</th>\n",
       "    </tr>\n",
       "    <tr>\n",
       "      <th>neighbourhood_cleansed</th>\n",
       "      <th>property_type</th>\n",
       "      <th></th>\n",
       "    </tr>\n",
       "  </thead>\n",
       "  <tbody>\n",
       "    <tr>\n",
       "      <th rowspan=\"5\" valign=\"top\">Adams</th>\n",
       "      <th>Apartment</th>\n",
       "      <td>121.148148</td>\n",
       "    </tr>\n",
       "    <tr>\n",
       "      <th>Bungalow</th>\n",
       "      <td>105.000000</td>\n",
       "    </tr>\n",
       "    <tr>\n",
       "      <th>Cabin</th>\n",
       "      <td>89.000000</td>\n",
       "    </tr>\n",
       "    <tr>\n",
       "      <th>Condominium</th>\n",
       "      <td>97.500000</td>\n",
       "    </tr>\n",
       "    <tr>\n",
       "      <th>House</th>\n",
       "      <td>133.764706</td>\n",
       "    </tr>\n",
       "    <tr>\n",
       "      <th>...</th>\n",
       "      <th>...</th>\n",
       "      <td>...</td>\n",
       "    </tr>\n",
       "    <tr>\n",
       "      <th rowspan=\"2\" valign=\"top\">Windermere</th>\n",
       "      <th>Apartment</th>\n",
       "      <td>163.333333</td>\n",
       "    </tr>\n",
       "    <tr>\n",
       "      <th>House</th>\n",
       "      <td>172.714286</td>\n",
       "    </tr>\n",
       "    <tr>\n",
       "      <th rowspan=\"3\" valign=\"top\">Yesler Terrace</th>\n",
       "      <th>Apartment</th>\n",
       "      <td>110.500000</td>\n",
       "    </tr>\n",
       "    <tr>\n",
       "      <th>Condominium</th>\n",
       "      <td>125.000000</td>\n",
       "    </tr>\n",
       "    <tr>\n",
       "      <th>House</th>\n",
       "      <td>179.000000</td>\n",
       "    </tr>\n",
       "  </tbody>\n",
       "</table>\n",
       "<p>343 rows × 1 columns</p>\n",
       "</div>"
      ],
      "text/plain": [
       "                                      price_float\n",
       "neighbourhood_cleansed property_type             \n",
       "Adams                  Apartment       121.148148\n",
       "                       Bungalow        105.000000\n",
       "                       Cabin            89.000000\n",
       "                       Condominium      97.500000\n",
       "                       House           133.764706\n",
       "...                                           ...\n",
       "Windermere             Apartment       163.333333\n",
       "                       House           172.714286\n",
       "Yesler Terrace         Apartment       110.500000\n",
       "                       Condominium     125.000000\n",
       "                       House           179.000000\n",
       "\n",
       "[343 rows x 1 columns]"
      ]
     },
     "execution_count": 10,
     "metadata": {},
     "output_type": "execute_result"
    }
   ],
   "source": [
    "print(\"Le prix moyen par quartier puis par logement est :\")\n",
    "listings[[\"price_float\",\"neighbourhood_cleansed\",\"property_type\"]].groupby([\"neighbourhood_cleansed\",\"property_type\"]).mean()"
   ]
  },
  {
   "cell_type": "code",
   "execution_count": 11,
   "id": "c49c6582",
   "metadata": {},
   "outputs": [
    {
     "data": {
      "text/plain": [
       "[]"
      ]
     },
     "execution_count": 11,
     "metadata": {},
     "output_type": "execute_result"
    },
    {
     "data": {
      "image/png": "[encoded data removed]",
      "text/plain": [
       "<Figure size 504x504 with 1 Axes>"
      ]
     },
     "metadata": {
      "needs_background": "light"
     },
     "output_type": "display_data"
    }
   ],
   "source": [
    "# graphique de prix par type de logements\n",
    "\n",
    "fig, ax = plt.subplots(figsize=(7, 7)) # taille du graphe\n",
    "\n",
    "sns.barplot(x=\"property_type\", y=\"price_float\", ci = None, data=listings) # ci = None pour enlever les IC\n",
    "ax.set_xticklabels(ax.get_xticklabels(), rotation=45, horizontalalignment='right') # pour mettre les noms de quartier en biais\n",
    "\n",
    "plt.title(\"Prix par type de logements à Seattle\")\n",
    "plt.ylabel(\"Prix\")\n",
    "plt.xlabel(\"Type de logements\")\n",
    "plt.plot()"
   ]
  },
  {
   "cell_type": "markdown",
   "id": "25dad23f",
   "metadata": {},
   "source": [
    "### Logements disponibles <a name=\"Q2\"></a>"
   ]
  },
  {
   "cell_type": "markdown",
   "id": "1518b665",
   "metadata": {},
   "source": [
    "Quels sont les mois de l’année où il y a le plus de logements disponibles ? Le moins ?\n",
    "\n",
    "Interprétation de la question: Qu’est-ce qu’un logement disponible ? On va décider de compter un logement disponible à partir du moment où celui-ci est disponible au moins 1 jour dans le mois et on le comptera une fois (ex: si le logement 32 est disponible 2 jours du mois de janvier on le compte 1 fois)."
   ]
  },
  {
   "cell_type": "code",
   "execution_count": 12,
   "id": "0e92cd16",
   "metadata": {},
   "outputs": [
    {
     "data": {
      "text/html": [
       "<div>\n",
       "<style scoped>\n",
       "    .dataframe tbody tr th:only-of-type {\n",
       "        vertical-align: middle;\n",
       "    }\n",
       "\n",
       "    .dataframe tbody tr th {\n",
       "        vertical-align: top;\n",
       "    }\n",
       "\n",
       "    .dataframe thead th {\n",
       "        text-align: right;\n",
       "    }\n",
       "</style>\n",
       "<table border=\"1\" class=\"dataframe\">\n",
       "  <thead>\n",
       "    <tr style=\"text-align: right;\">\n",
       "      <th></th>\n",
       "      <th></th>\n",
       "      <th></th>\n",
       "      <th>dispo</th>\n",
       "    </tr>\n",
       "    <tr>\n",
       "      <th>listing_id</th>\n",
       "      <th>year</th>\n",
       "      <th>month</th>\n",
       "      <th></th>\n",
       "    </tr>\n",
       "  </thead>\n",
       "  <tbody>\n",
       "    <tr>\n",
       "      <th rowspan=\"5\" valign=\"top\">3335</th>\n",
       "      <th rowspan=\"5\" valign=\"top\">2016</th>\n",
       "      <th>1</th>\n",
       "      <td>0</td>\n",
       "    </tr>\n",
       "    <tr>\n",
       "      <th>10</th>\n",
       "      <td>1</td>\n",
       "    </tr>\n",
       "    <tr>\n",
       "      <th>11</th>\n",
       "      <td>1</td>\n",
       "    </tr>\n",
       "    <tr>\n",
       "      <th>12</th>\n",
       "      <td>1</td>\n",
       "    </tr>\n",
       "    <tr>\n",
       "      <th>2</th>\n",
       "      <td>1</td>\n",
       "    </tr>\n",
       "    <tr>\n",
       "      <th>...</th>\n",
       "      <th>...</th>\n",
       "      <th>...</th>\n",
       "      <td>...</td>\n",
       "    </tr>\n",
       "    <tr>\n",
       "      <th rowspan=\"5\" valign=\"top\">10340165</th>\n",
       "      <th rowspan=\"4\" valign=\"top\">2016</th>\n",
       "      <th>6</th>\n",
       "      <td>1</td>\n",
       "    </tr>\n",
       "    <tr>\n",
       "      <th>7</th>\n",
       "      <td>1</td>\n",
       "    </tr>\n",
       "    <tr>\n",
       "      <th>8</th>\n",
       "      <td>1</td>\n",
       "    </tr>\n",
       "    <tr>\n",
       "      <th>9</th>\n",
       "      <td>1</td>\n",
       "    </tr>\n",
       "    <tr>\n",
       "      <th>2017</th>\n",
       "      <th>1</th>\n",
       "      <td>1</td>\n",
       "    </tr>\n",
       "  </tbody>\n",
       "</table>\n",
       "<p>49634 rows × 1 columns</p>\n",
       "</div>"
      ],
      "text/plain": [
       "                       dispo\n",
       "listing_id year month       \n",
       "3335       2016 1          0\n",
       "                10         1\n",
       "                11         1\n",
       "                12         1\n",
       "                2          1\n",
       "...                      ...\n",
       "10340165   2016 6          1\n",
       "                7          1\n",
       "                8          1\n",
       "                9          1\n",
       "           2017 1          1\n",
       "\n",
       "[49634 rows x 1 columns]"
      ]
     },
     "execution_count": 12,
     "metadata": {},
     "output_type": "execute_result"
    }
   ],
   "source": [
    "#creation d'une nouvelle dataframe où on considere que pour UN logement si il est disponible AU MOINS un jour du mois il sera marqué dispo pour le mois\n",
    "df_inter=calendar[[\"listing_id\",'month',\"dispo\",\"year\"]].groupby([\"listing_id\",\"year\",\"month\"]).max()\n",
    "df_inter\n"
   ]
  },
  {
   "cell_type": "code",
   "execution_count": 13,
   "id": "9039ae1b",
   "metadata": {},
   "outputs": [
    {
     "data": {
      "text/html": [
       "<div>\n",
       "<style scoped>\n",
       "    .dataframe tbody tr th:only-of-type {\n",
       "        vertical-align: middle;\n",
       "    }\n",
       "\n",
       "    .dataframe tbody tr th {\n",
       "        vertical-align: top;\n",
       "    }\n",
       "\n",
       "    .dataframe thead th {\n",
       "        text-align: right;\n",
       "    }\n",
       "</style>\n",
       "<table border=\"1\" class=\"dataframe\">\n",
       "  <thead>\n",
       "    <tr style=\"text-align: right;\">\n",
       "      <th></th>\n",
       "      <th></th>\n",
       "      <th>dispo</th>\n",
       "    </tr>\n",
       "    <tr>\n",
       "      <th>year</th>\n",
       "      <th>month</th>\n",
       "      <th></th>\n",
       "    </tr>\n",
       "  </thead>\n",
       "  <tbody>\n",
       "    <tr>\n",
       "      <th rowspan=\"12\" valign=\"top\">2016</th>\n",
       "      <th>1</th>\n",
       "      <td>2868</td>\n",
       "    </tr>\n",
       "    <tr>\n",
       "      <th>10</th>\n",
       "      <td>2694</td>\n",
       "    </tr>\n",
       "    <tr>\n",
       "      <th>11</th>\n",
       "      <td>2771</td>\n",
       "    </tr>\n",
       "    <tr>\n",
       "      <th>12</th>\n",
       "      <td>2866</td>\n",
       "    </tr>\n",
       "    <tr>\n",
       "      <th>2</th>\n",
       "      <td>2895</td>\n",
       "    </tr>\n",
       "    <tr>\n",
       "      <th>3</th>\n",
       "      <td>2950</td>\n",
       "    </tr>\n",
       "    <tr>\n",
       "      <th>4</th>\n",
       "      <td>3002</td>\n",
       "    </tr>\n",
       "    <tr>\n",
       "      <th>5</th>\n",
       "      <td>2705</td>\n",
       "    </tr>\n",
       "    <tr>\n",
       "      <th>6</th>\n",
       "      <td>2720</td>\n",
       "    </tr>\n",
       "    <tr>\n",
       "      <th>7</th>\n",
       "      <td>2503</td>\n",
       "    </tr>\n",
       "    <tr>\n",
       "      <th>8</th>\n",
       "      <td>2561</td>\n",
       "    </tr>\n",
       "    <tr>\n",
       "      <th>9</th>\n",
       "      <td>2649</td>\n",
       "    </tr>\n",
       "    <tr>\n",
       "      <th>2017</th>\n",
       "      <th>1</th>\n",
       "      <td>2931</td>\n",
       "    </tr>\n",
       "  </tbody>\n",
       "</table>\n",
       "</div>"
      ],
      "text/plain": [
       "            dispo\n",
       "year month       \n",
       "2016 1       2868\n",
       "     10      2694\n",
       "     11      2771\n",
       "     12      2866\n",
       "     2       2895\n",
       "     3       2950\n",
       "     4       3002\n",
       "     5       2705\n",
       "     6       2720\n",
       "     7       2503\n",
       "     8       2561\n",
       "     9       2649\n",
       "2017 1       2931"
      ]
     },
     "execution_count": 13,
     "metadata": {},
     "output_type": "execute_result"
    }
   ],
   "source": [
    "# ici on cherche a compter le nombre de logement disponible pour chaque mois de l'année 2017 et 2016 avec sum()\n",
    "df_finalQ2=df_inter.groupby([\"year\",\"month\"]).sum()\n",
    "df_finalQ2"
   ]
  },
  {
   "cell_type": "code",
   "execution_count": 14,
   "id": "4c37d580",
   "metadata": {},
   "outputs": [
    {
     "data": {
      "text/html": [
       "<div>\n",
       "<style scoped>\n",
       "    .dataframe tbody tr th:only-of-type {\n",
       "        vertical-align: middle;\n",
       "    }\n",
       "\n",
       "    .dataframe tbody tr th {\n",
       "        vertical-align: top;\n",
       "    }\n",
       "\n",
       "    .dataframe thead th {\n",
       "        text-align: right;\n",
       "    }\n",
       "</style>\n",
       "<table border=\"1\" class=\"dataframe\">\n",
       "  <thead>\n",
       "    <tr style=\"text-align: right;\">\n",
       "      <th></th>\n",
       "      <th></th>\n",
       "      <th>dispo</th>\n",
       "    </tr>\n",
       "    <tr>\n",
       "      <th>year</th>\n",
       "      <th>month</th>\n",
       "      <th></th>\n",
       "    </tr>\n",
       "  </thead>\n",
       "  <tbody>\n",
       "    <tr>\n",
       "      <th>2016</th>\n",
       "      <th>4</th>\n",
       "      <td>3002</td>\n",
       "    </tr>\n",
       "  </tbody>\n",
       "</table>\n",
       "</div>"
      ],
      "text/plain": [
       "            dispo\n",
       "year month       \n",
       "2016 4       3002"
      ]
     },
     "execution_count": 14,
     "metadata": {},
     "output_type": "execute_result"
    }
   ],
   "source": [
    "max_2016 = df_finalQ2.max() # max de 2016\n",
    "df_finalQ2.loc[df_finalQ2[\"dispo\"] == int(max_2016)]"
   ]
  },
  {
   "cell_type": "code",
   "execution_count": 15,
   "id": "3755e50e",
   "metadata": {},
   "outputs": [
    {
     "data": {
      "text/html": [
       "<div>\n",
       "<style scoped>\n",
       "    .dataframe tbody tr th:only-of-type {\n",
       "        vertical-align: middle;\n",
       "    }\n",
       "\n",
       "    .dataframe tbody tr th {\n",
       "        vertical-align: top;\n",
       "    }\n",
       "\n",
       "    .dataframe thead th {\n",
       "        text-align: right;\n",
       "    }\n",
       "</style>\n",
       "<table border=\"1\" class=\"dataframe\">\n",
       "  <thead>\n",
       "    <tr style=\"text-align: right;\">\n",
       "      <th></th>\n",
       "      <th></th>\n",
       "      <th>dispo</th>\n",
       "    </tr>\n",
       "    <tr>\n",
       "      <th>year</th>\n",
       "      <th>month</th>\n",
       "      <th></th>\n",
       "    </tr>\n",
       "  </thead>\n",
       "  <tbody>\n",
       "    <tr>\n",
       "      <th>2016</th>\n",
       "      <th>7</th>\n",
       "      <td>2503</td>\n",
       "    </tr>\n",
       "  </tbody>\n",
       "</table>\n",
       "</div>"
      ],
      "text/plain": [
       "            dispo\n",
       "year month       \n",
       "2016 7       2503"
      ]
     },
     "execution_count": 15,
     "metadata": {},
     "output_type": "execute_result"
    }
   ],
   "source": [
    "min_2016 = df_finalQ2.min() # min de 2016\n",
    "df_finalQ2.loc[df_finalQ2[\"dispo\"] == int(min_2016)]"
   ]
  },
  {
   "cell_type": "markdown",
   "id": "c8609c81",
   "metadata": {},
   "source": [
    "En 2016, le mois où il y a le plus de logements disponibles est le mois d'avril et le mois où il y en a le moins c'est juillet. En 2017, il y a qu'un seul mois donc on s'interesse seulement à 2016."
   ]
  },
  {
   "cell_type": "markdown",
   "id": "78cfd35b",
   "metadata": {},
   "source": [
    "### Déterminants du prix de location <a name=\"Q3\"></a>"
   ]
  },
  {
   "cell_type": "code",
   "execution_count": 16,
   "id": "be4a343f",
   "metadata": {},
   "outputs": [
    {
     "data": {
      "image/png": "[encoded data removed]",
      "text/plain": [
       "<Figure size 1080x1080 with 2 Axes>"
      ]
     },
     "metadata": {
      "needs_background": "light"
     },
     "output_type": "display_data"
    }
   ],
   "source": [
    "#Corrélation\n",
    "f, ax = plt.subplots(figsize=(15, 15))\n",
    "\n",
    "CorList=listings.corr()\n",
    "\n",
    "pres=np.triu(np.ones_like(CorList, dtype=bool))#triu=triangular upper\n",
    "color = sns.diverging_palette(240, 500, as_cmap=True)\n",
    "sns.heatmap(CorList,mask=pres,cmap=color,annot=False,linewidths=1,cbar_kws={\"shrink\": .7})\n",
    "#linewidth=espacement entre carreaux\n",
    "#cbar_kws=échelle des corrélations\n",
    "#mask= masquer le triangle supérieur\n",
    "#cmap= la couleur\n",
    "\n",
    "plt.title(\"Matrice de corrélation entre les différentes variables\")\n",
    "plt.show()"
   ]
  },
  {
   "cell_type": "markdown",
   "id": "44d7aefb",
   "metadata": {},
   "source": [
    "On remarque que le prix est fortement influencé de façon positive par le nombre d'accommodation, de chambres, de salles de bains et de lits. En revanche il est corrélé négativement par le nombre de reviews"
   ]
  },
  {
   "cell_type": "markdown",
   "id": "7839fc77",
   "metadata": {},
   "source": [
    "         \n",
    "         \n",
    "         \n",
    "         \n",
    "         \n",
    "         "
   ]
  },
  {
   "cell_type": "markdown",
   "id": "0b293e7e",
   "metadata": {},
   "source": [
    "    "
   ]
  },
  {
   "cell_type": "markdown",
   "id": "cac907d7",
   "metadata": {},
   "source": [
    "            "
   ]
  },
  {
   "cell_type": "markdown",
   "id": "61944163",
   "metadata": {},
   "source": [
    "### Meilleur mois pour visiter Seattle et le mois le plus cher <a name=\"Q4\"></a>"
   ]
  },
  {
   "cell_type": "markdown",
   "id": "7d87dca7",
   "metadata": {},
   "source": [
    "1. Nous séparons les deux années afin d'avoir le meilleur et pire mois (en fonction du prix par nuit) pour visiter Seattle"
   ]
  },
  {
   "cell_type": "code",
   "execution_count": 17,
   "id": "95eabb15",
   "metadata": {},
   "outputs": [],
   "source": [
    "# 2016\n",
    "calendar_2016 = calendar[calendar[\"year\"]==\"2016\"] # ici on récupère le df uniquement sur 2016\n",
    "calendar_dispo_2016 = calendar_2016.groupby([\"month\"]).agg({\"dispo\":\"sum\"}) \n",
    "# nombre de logements disponibles par mois en 2016\n",
    "\n",
    "#2017\n",
    "calendar_2017 = calendar[calendar[\"year\"]==\"2017\"]\n",
    "calendar_dispo_2017 = calendar_2017.groupby([\"month\"]).agg({\"dispo\":\"sum\"})\n"
   ]
  },
  {
   "cell_type": "code",
   "execution_count": 18,
   "id": "6a7e8da4",
   "metadata": {},
   "outputs": [
    {
     "name": "stderr",
     "output_type": "stream",
     "text": [
      "C:\\Users\\yjsem\\AppData\\Local\\Temp/ipykernel_15796/3108647317.py:1: SettingWithCopyWarning: \n",
      "A value is trying to be set on a copy of a slice from a DataFrame.\n",
      "Try using .loc[row_indexer,col_indexer] = value instead\n",
      "\n",
      "See the caveats in the documentation: https://pandas.pydata.org/pandas-docs/stable/user_guide/indexing.html#returning-a-view-versus-a-copy\n",
      "  calendar_2016[\"price_dollar\"] = calendar_2016[\"price\"].astype(str) # crée nouvelle variable et force à convertir en str\n",
      "C:\\Users\\yjsem\\AppData\\Local\\Temp/ipykernel_15796/3108647317.py:2: FutureWarning: The default value of regex will change from True to False in a future version. In addition, single character regular expressions will *not* be treated as literal strings when regex=True.\n",
      "  calendar_2016[\"price_dollar\"] = calendar_2016[\"price\"].str.replace('$','') # supprime $\n",
      "C:\\Users\\yjsem\\AppData\\Local\\Temp/ipykernel_15796/3108647317.py:2: SettingWithCopyWarning: \n",
      "A value is trying to be set on a copy of a slice from a DataFrame.\n",
      "Try using .loc[row_indexer,col_indexer] = value instead\n",
      "\n",
      "See the caveats in the documentation: https://pandas.pydata.org/pandas-docs/stable/user_guide/indexing.html#returning-a-view-versus-a-copy\n",
      "  calendar_2016[\"price_dollar\"] = calendar_2016[\"price\"].str.replace('$','') # supprime $\n",
      "C:\\Users\\yjsem\\AppData\\Local\\Temp/ipykernel_15796/3108647317.py:3: SettingWithCopyWarning: \n",
      "A value is trying to be set on a copy of a slice from a DataFrame.\n",
      "Try using .loc[row_indexer,col_indexer] = value instead\n",
      "\n",
      "See the caveats in the documentation: https://pandas.pydata.org/pandas-docs/stable/user_guide/indexing.html#returning-a-view-versus-a-copy\n",
      "  calendar_2016[\"price_float\"] = calendar_2016[\"price_dollar\"].str.replace(',','').astype(np.float64)\n",
      "C:\\Users\\yjsem\\AppData\\Local\\Temp/ipykernel_15796/3108647317.py:5: SettingWithCopyWarning: \n",
      "A value is trying to be set on a copy of a slice from a DataFrame.\n",
      "Try using .loc[row_indexer,col_indexer] = value instead\n",
      "\n",
      "See the caveats in the documentation: https://pandas.pydata.org/pandas-docs/stable/user_guide/indexing.html#returning-a-view-versus-a-copy\n",
      "  calendar_2017[\"price_dollar\"] = calendar_2017[\"price\"].astype(str) # crée nouvelle variable et force à convertir en str\n",
      "C:\\Users\\yjsem\\AppData\\Local\\Temp/ipykernel_15796/3108647317.py:6: FutureWarning: The default value of regex will change from True to False in a future version. In addition, single character regular expressions will *not* be treated as literal strings when regex=True.\n",
      "  calendar_2017[\"price_dollar\"] = calendar_2017[\"price\"].str.replace('$','') # supprime $\n",
      "C:\\Users\\yjsem\\AppData\\Local\\Temp/ipykernel_15796/3108647317.py:6: SettingWithCopyWarning: \n",
      "A value is trying to be set on a copy of a slice from a DataFrame.\n",
      "Try using .loc[row_indexer,col_indexer] = value instead\n",
      "\n",
      "See the caveats in the documentation: https://pandas.pydata.org/pandas-docs/stable/user_guide/indexing.html#returning-a-view-versus-a-copy\n",
      "  calendar_2017[\"price_dollar\"] = calendar_2017[\"price\"].str.replace('$','') # supprime $\n",
      "C:\\Users\\yjsem\\AppData\\Local\\Temp/ipykernel_15796/3108647317.py:7: SettingWithCopyWarning: \n",
      "A value is trying to be set on a copy of a slice from a DataFrame.\n",
      "Try using .loc[row_indexer,col_indexer] = value instead\n",
      "\n",
      "See the caveats in the documentation: https://pandas.pydata.org/pandas-docs/stable/user_guide/indexing.html#returning-a-view-versus-a-copy\n",
      "  calendar_2017[\"price_float\"] = calendar_2017[\"price_dollar\"].str.replace(',','').astype(np.float64)\n"
     ]
    }
   ],
   "source": [
    "calendar_2016[\"price_dollar\"] = calendar_2016[\"price\"].astype(str) # crée nouvelle variable et force à convertir en str\n",
    "calendar_2016[\"price_dollar\"] = calendar_2016[\"price\"].str.replace('$','') # supprime $\n",
    "calendar_2016[\"price_float\"] = calendar_2016[\"price_dollar\"].str.replace(',','').astype(np.float64)\n",
    "\n",
    "calendar_2017[\"price_dollar\"] = calendar_2017[\"price\"].astype(str) # crée nouvelle variable et force à convertir en str\n",
    "calendar_2017[\"price_dollar\"] = calendar_2017[\"price\"].str.replace('$','') # supprime $\n",
    "calendar_2017[\"price_float\"] = calendar_2017[\"price_dollar\"].str.replace(',','').astype(np.float64)\n"
   ]
  },
  {
   "cell_type": "code",
   "execution_count": 19,
   "id": "a0e8f086",
   "metadata": {},
   "outputs": [
    {
     "data": {
      "text/html": [
       "<div>\n",
       "<style scoped>\n",
       "    .dataframe tbody tr th:only-of-type {\n",
       "        vertical-align: middle;\n",
       "    }\n",
       "\n",
       "    .dataframe tbody tr th {\n",
       "        vertical-align: top;\n",
       "    }\n",
       "\n",
       "    .dataframe thead th {\n",
       "        text-align: right;\n",
       "    }\n",
       "</style>\n",
       "<table border=\"1\" class=\"dataframe\">\n",
       "  <thead>\n",
       "    <tr style=\"text-align: right;\">\n",
       "      <th></th>\n",
       "      <th>listing_id</th>\n",
       "      <th>date</th>\n",
       "      <th>available</th>\n",
       "      <th>price</th>\n",
       "      <th>month</th>\n",
       "      <th>year</th>\n",
       "      <th>price_dollar</th>\n",
       "      <th>price_float</th>\n",
       "      <th>dispo</th>\n",
       "    </tr>\n",
       "  </thead>\n",
       "  <tbody>\n",
       "    <tr>\n",
       "      <th>0</th>\n",
       "      <td>241032</td>\n",
       "      <td>2016-01-04</td>\n",
       "      <td>t</td>\n",
       "      <td>$85.00</td>\n",
       "      <td>1</td>\n",
       "      <td>2016</td>\n",
       "      <td>85.00</td>\n",
       "      <td>85.0</td>\n",
       "      <td>1</td>\n",
       "    </tr>\n",
       "    <tr>\n",
       "      <th>1</th>\n",
       "      <td>241032</td>\n",
       "      <td>2016-01-05</td>\n",
       "      <td>t</td>\n",
       "      <td>$85.00</td>\n",
       "      <td>1</td>\n",
       "      <td>2016</td>\n",
       "      <td>85.00</td>\n",
       "      <td>85.0</td>\n",
       "      <td>1</td>\n",
       "    </tr>\n",
       "    <tr>\n",
       "      <th>9</th>\n",
       "      <td>241032</td>\n",
       "      <td>2016-01-13</td>\n",
       "      <td>t</td>\n",
       "      <td>$85.00</td>\n",
       "      <td>1</td>\n",
       "      <td>2016</td>\n",
       "      <td>85.00</td>\n",
       "      <td>85.0</td>\n",
       "      <td>1</td>\n",
       "    </tr>\n",
       "    <tr>\n",
       "      <th>10</th>\n",
       "      <td>241032</td>\n",
       "      <td>2016-01-14</td>\n",
       "      <td>t</td>\n",
       "      <td>$85.00</td>\n",
       "      <td>1</td>\n",
       "      <td>2016</td>\n",
       "      <td>85.00</td>\n",
       "      <td>85.0</td>\n",
       "      <td>1</td>\n",
       "    </tr>\n",
       "    <tr>\n",
       "      <th>14</th>\n",
       "      <td>241032</td>\n",
       "      <td>2016-01-18</td>\n",
       "      <td>t</td>\n",
       "      <td>$85.00</td>\n",
       "      <td>1</td>\n",
       "      <td>2016</td>\n",
       "      <td>85.00</td>\n",
       "      <td>85.0</td>\n",
       "      <td>1</td>\n",
       "    </tr>\n",
       "    <tr>\n",
       "      <th>...</th>\n",
       "      <td>...</td>\n",
       "      <td>...</td>\n",
       "      <td>...</td>\n",
       "      <td>...</td>\n",
       "      <td>...</td>\n",
       "      <td>...</td>\n",
       "      <td>...</td>\n",
       "      <td>...</td>\n",
       "      <td>...</td>\n",
       "    </tr>\n",
       "    <tr>\n",
       "      <th>1393207</th>\n",
       "      <td>10208623</td>\n",
       "      <td>2016-01-06</td>\n",
       "      <td>t</td>\n",
       "      <td>$87.00</td>\n",
       "      <td>1</td>\n",
       "      <td>2016</td>\n",
       "      <td>87.00</td>\n",
       "      <td>87.0</td>\n",
       "      <td>1</td>\n",
       "    </tr>\n",
       "    <tr>\n",
       "      <th>1393208</th>\n",
       "      <td>10208623</td>\n",
       "      <td>2016-01-07</td>\n",
       "      <td>t</td>\n",
       "      <td>$87.00</td>\n",
       "      <td>1</td>\n",
       "      <td>2016</td>\n",
       "      <td>87.00</td>\n",
       "      <td>87.0</td>\n",
       "      <td>1</td>\n",
       "    </tr>\n",
       "    <tr>\n",
       "      <th>1393211</th>\n",
       "      <td>10208623</td>\n",
       "      <td>2016-01-10</td>\n",
       "      <td>t</td>\n",
       "      <td>$87.00</td>\n",
       "      <td>1</td>\n",
       "      <td>2016</td>\n",
       "      <td>87.00</td>\n",
       "      <td>87.0</td>\n",
       "      <td>1</td>\n",
       "    </tr>\n",
       "    <tr>\n",
       "      <th>1393212</th>\n",
       "      <td>10208623</td>\n",
       "      <td>2016-01-11</td>\n",
       "      <td>t</td>\n",
       "      <td>$87.00</td>\n",
       "      <td>1</td>\n",
       "      <td>2016</td>\n",
       "      <td>87.00</td>\n",
       "      <td>87.0</td>\n",
       "      <td>1</td>\n",
       "    </tr>\n",
       "    <tr>\n",
       "      <th>1393213</th>\n",
       "      <td>10208623</td>\n",
       "      <td>2016-01-12</td>\n",
       "      <td>t</td>\n",
       "      <td>$87.00</td>\n",
       "      <td>1</td>\n",
       "      <td>2016</td>\n",
       "      <td>87.00</td>\n",
       "      <td>87.0</td>\n",
       "      <td>1</td>\n",
       "    </tr>\n",
       "  </tbody>\n",
       "</table>\n",
       "<p>928844 rows × 9 columns</p>\n",
       "</div>"
      ],
      "text/plain": [
       "         listing_id       date available   price month  year price_dollar  \\\n",
       "0            241032 2016-01-04         t  $85.00     1  2016        85.00   \n",
       "1            241032 2016-01-05         t  $85.00     1  2016        85.00   \n",
       "9            241032 2016-01-13         t  $85.00     1  2016        85.00   \n",
       "10           241032 2016-01-14         t  $85.00     1  2016        85.00   \n",
       "14           241032 2016-01-18         t  $85.00     1  2016        85.00   \n",
       "...             ...        ...       ...     ...   ...   ...          ...   \n",
       "1393207    10208623 2016-01-06         t  $87.00     1  2016        87.00   \n",
       "1393208    10208623 2016-01-07         t  $87.00     1  2016        87.00   \n",
       "1393211    10208623 2016-01-10         t  $87.00     1  2016        87.00   \n",
       "1393212    10208623 2016-01-11         t  $87.00     1  2016        87.00   \n",
       "1393213    10208623 2016-01-12         t  $87.00     1  2016        87.00   \n",
       "\n",
       "         price_float  dispo  \n",
       "0               85.0      1  \n",
       "1               85.0      1  \n",
       "9               85.0      1  \n",
       "10              85.0      1  \n",
       "14              85.0      1  \n",
       "...              ...    ...  \n",
       "1393207         87.0      1  \n",
       "1393208         87.0      1  \n",
       "1393211         87.0      1  \n",
       "1393212         87.0      1  \n",
       "1393213         87.0      1  \n",
       "\n",
       "[928844 rows x 9 columns]"
      ]
     },
     "execution_count": 19,
     "metadata": {},
     "output_type": "execute_result"
    }
   ],
   "source": [
    "calendar_dispo_meilleur = calendar.loc[calendar[\"dispo\"]==1] # on récupère que les logements disponibles\n",
    "\n",
    "calendar_dispo_meilleur_2016 = calendar_2016.loc[calendar[\"dispo\"]==1]\n",
    "calendar_dispo_meilleur_2017 = calendar_2017.loc[calendar[\"dispo\"]==1]\n",
    "calendar_dispo_meilleur_2016"
   ]
  },
  {
   "cell_type": "markdown",
   "id": "509b855e",
   "metadata": {},
   "source": [
    "2. Réalisation d'un groupby par mois"
   ]
  },
  {
   "cell_type": "code",
   "execution_count": 20,
   "id": "63ca98fb",
   "metadata": {},
   "outputs": [
    {
     "data": {
      "text/html": [
       "<div>\n",
       "<style scoped>\n",
       "    .dataframe tbody tr th:only-of-type {\n",
       "        vertical-align: middle;\n",
       "    }\n",
       "\n",
       "    .dataframe tbody tr th {\n",
       "        vertical-align: top;\n",
       "    }\n",
       "\n",
       "    .dataframe thead th {\n",
       "        text-align: right;\n",
       "    }\n",
       "</style>\n",
       "<table border=\"1\" class=\"dataframe\">\n",
       "  <thead>\n",
       "    <tr style=\"text-align: right;\">\n",
       "      <th></th>\n",
       "      <th>price_float</th>\n",
       "    </tr>\n",
       "    <tr>\n",
       "      <th>month</th>\n",
       "      <th></th>\n",
       "    </tr>\n",
       "  </thead>\n",
       "  <tbody>\n",
       "    <tr>\n",
       "      <th>1</th>\n",
       "      <td>122.912176</td>\n",
       "    </tr>\n",
       "    <tr>\n",
       "      <th>10</th>\n",
       "      <td>137.031939</td>\n",
       "    </tr>\n",
       "    <tr>\n",
       "      <th>11</th>\n",
       "      <td>135.688738</td>\n",
       "    </tr>\n",
       "    <tr>\n",
       "      <th>12</th>\n",
       "      <td>137.251835</td>\n",
       "    </tr>\n",
       "    <tr>\n",
       "      <th>2</th>\n",
       "      <td>124.293927</td>\n",
       "    </tr>\n",
       "    <tr>\n",
       "      <th>3</th>\n",
       "      <td>128.644488</td>\n",
       "    </tr>\n",
       "    <tr>\n",
       "      <th>4</th>\n",
       "      <td>135.097005</td>\n",
       "    </tr>\n",
       "    <tr>\n",
       "      <th>5</th>\n",
       "      <td>139.538183</td>\n",
       "    </tr>\n",
       "    <tr>\n",
       "      <th>6</th>\n",
       "      <td>147.473137</td>\n",
       "    </tr>\n",
       "    <tr>\n",
       "      <th>7</th>\n",
       "      <td>152.094150</td>\n",
       "    </tr>\n",
       "    <tr>\n",
       "      <th>8</th>\n",
       "      <td>150.656594</td>\n",
       "    </tr>\n",
       "    <tr>\n",
       "      <th>9</th>\n",
       "      <td>143.255949</td>\n",
       "    </tr>\n",
       "  </tbody>\n",
       "</table>\n",
       "</div>"
      ],
      "text/plain": [
       "       price_float\n",
       "month             \n",
       "1       122.912176\n",
       "10      137.031939\n",
       "11      135.688738\n",
       "12      137.251835\n",
       "2       124.293927\n",
       "3       128.644488\n",
       "4       135.097005\n",
       "5       139.538183\n",
       "6       147.473137\n",
       "7       152.094150\n",
       "8       150.656594\n",
       "9       143.255949"
      ]
     },
     "execution_count": 20,
     "metadata": {},
     "output_type": "execute_result"
    }
   ],
   "source": [
    "df_=calendar_dispo_meilleur[[\"price_float\",\"month\"]].groupby([\"month\"]).mean()\n",
    "df_#nouvelle dataframe avec le prix moyen par mois des logements"
   ]
  },
  {
   "cell_type": "code",
   "execution_count": 21,
   "id": "bdd2d97e",
   "metadata": {},
   "outputs": [
    {
     "data": {
      "text/html": [
       "<div>\n",
       "<style scoped>\n",
       "    .dataframe tbody tr th:only-of-type {\n",
       "        vertical-align: middle;\n",
       "    }\n",
       "\n",
       "    .dataframe tbody tr th {\n",
       "        vertical-align: top;\n",
       "    }\n",
       "\n",
       "    .dataframe thead th {\n",
       "        text-align: right;\n",
       "    }\n",
       "</style>\n",
       "<table border=\"1\" class=\"dataframe\">\n",
       "  <thead>\n",
       "    <tr style=\"text-align: right;\">\n",
       "      <th></th>\n",
       "      <th>price_float</th>\n",
       "    </tr>\n",
       "    <tr>\n",
       "      <th>month</th>\n",
       "      <th></th>\n",
       "    </tr>\n",
       "  </thead>\n",
       "  <tbody>\n",
       "    <tr>\n",
       "      <th>1</th>\n",
       "      <td>121.568409</td>\n",
       "    </tr>\n",
       "    <tr>\n",
       "      <th>10</th>\n",
       "      <td>137.031939</td>\n",
       "    </tr>\n",
       "    <tr>\n",
       "      <th>11</th>\n",
       "      <td>135.688738</td>\n",
       "    </tr>\n",
       "    <tr>\n",
       "      <th>12</th>\n",
       "      <td>137.251835</td>\n",
       "    </tr>\n",
       "    <tr>\n",
       "      <th>2</th>\n",
       "      <td>124.293927</td>\n",
       "    </tr>\n",
       "    <tr>\n",
       "      <th>3</th>\n",
       "      <td>128.644488</td>\n",
       "    </tr>\n",
       "    <tr>\n",
       "      <th>4</th>\n",
       "      <td>135.097005</td>\n",
       "    </tr>\n",
       "    <tr>\n",
       "      <th>5</th>\n",
       "      <td>139.538183</td>\n",
       "    </tr>\n",
       "    <tr>\n",
       "      <th>6</th>\n",
       "      <td>147.473137</td>\n",
       "    </tr>\n",
       "    <tr>\n",
       "      <th>7</th>\n",
       "      <td>152.094150</td>\n",
       "    </tr>\n",
       "    <tr>\n",
       "      <th>8</th>\n",
       "      <td>150.656594</td>\n",
       "    </tr>\n",
       "    <tr>\n",
       "      <th>9</th>\n",
       "      <td>143.255949</td>\n",
       "    </tr>\n",
       "  </tbody>\n",
       "</table>\n",
       "</div>"
      ],
      "text/plain": [
       "       price_float\n",
       "month             \n",
       "1       121.568409\n",
       "10      137.031939\n",
       "11      135.688738\n",
       "12      137.251835\n",
       "2       124.293927\n",
       "3       128.644488\n",
       "4       135.097005\n",
       "5       139.538183\n",
       "6       147.473137\n",
       "7       152.094150\n",
       "8       150.656594\n",
       "9       143.255949"
      ]
     },
     "execution_count": 21,
     "metadata": {},
     "output_type": "execute_result"
    }
   ],
   "source": [
    "df_=calendar_dispo_meilleur_2016[[\"price_float\",\"month\"]].groupby([\"month\"]).mean()\n",
    "df_#nouvelle dataframe avec le prix moyen par mois des logements"
   ]
  },
  {
   "cell_type": "code",
   "execution_count": 22,
   "id": "4cbd7196",
   "metadata": {},
   "outputs": [
    {
     "data": {
      "text/html": [
       "<div>\n",
       "<style scoped>\n",
       "    .dataframe tbody tr th:only-of-type {\n",
       "        vertical-align: middle;\n",
       "    }\n",
       "\n",
       "    .dataframe tbody tr th {\n",
       "        vertical-align: top;\n",
       "    }\n",
       "\n",
       "    .dataframe thead th {\n",
       "        text-align: right;\n",
       "    }\n",
       "</style>\n",
       "<table border=\"1\" class=\"dataframe\">\n",
       "  <thead>\n",
       "    <tr style=\"text-align: right;\">\n",
       "      <th></th>\n",
       "      <th>price_float</th>\n",
       "    </tr>\n",
       "    <tr>\n",
       "      <th>month</th>\n",
       "      <th></th>\n",
       "    </tr>\n",
       "  </thead>\n",
       "  <tbody>\n",
       "    <tr>\n",
       "      <th>1</th>\n",
       "      <td>136.88259</td>\n",
       "    </tr>\n",
       "  </tbody>\n",
       "</table>\n",
       "</div>"
      ],
      "text/plain": [
       "       price_float\n",
       "month             \n",
       "1        136.88259"
      ]
     },
     "execution_count": 22,
     "metadata": {},
     "output_type": "execute_result"
    }
   ],
   "source": [
    "df__=calendar_dispo_meilleur_2017[[\"price_float\",\"month\"]].groupby([\"month\"]).mean()\n",
    "df__#nouvelle dataframe avec le prix moyen par mois des logements"
   ]
  },
  {
   "cell_type": "code",
   "execution_count": 23,
   "id": "b8b99b51",
   "metadata": {},
   "outputs": [
    {
     "name": "stdout",
     "output_type": "stream",
     "text": [
      "Le meilleur mois pour faire des économies en 2016 est : janvier\n",
      "Le mois le plus cher en 2016 est : juillet\n",
      "Le meilleur mois pour faire des économies en 2017 est : janvier\n",
      "Le mois le plus cher en 2017 est : janvier\n"
     ]
    }
   ],
   "source": [
    "mois = [\"janvier\",\"février\",\"mars\",\"avril\",\"mai\",\"juin\",\"juillet\",\"août\",\"septembre\",\"octobre\",\"novembre\",\"décembre\"]\n",
    "\n",
    "print(\"Le meilleur mois pour faire des économies en 2016 est :\",mois[int(df_.idxmin())-1])#affiche le mois de l'année ou on pourra trouver les prix plus faibles en moyennes \n",
    "print(\"Le mois le plus cher en 2016 est :\",mois[int(df_.idxmax())-1])#affiche le mois de l'année ou on pourra trouver les prix plus élevés en moyenne\n",
    "\n",
    "print(\"Le meilleur mois pour faire des économies en 2017 est :\",mois[int(df__.idxmin())-1])#affiche le mois de l'année ou on pourra trouver les prix plus faibles en moyennes \n",
    "print(\"Le mois le plus cher en 2017 est :\",mois[int(df__.idxmax())-1])#affiche le mois de l'année ou on pourra trouver les prix plus élevés en moyenne\n"
   ]
  },
  {
   "cell_type": "markdown",
   "id": "b8537561",
   "metadata": {},
   "source": [
    "# Partie 2: Moteur de Recherche <a name=\"Part2\"></a>"
   ]
  },
  {
   "cell_type": "markdown",
   "id": "648f8699",
   "metadata": {},
   "source": [
    "Afficher Titre de l'annonce, résumé, type de logement, prix par nuit, quartier, nombre de chambre, nom de l'hôte\n",
    "\n",
    "Reviens à afficher les info suivantes: \n",
    "`\"name\"`,`\"summary\"`,`\"property_type\"`,`\"price_float\"`,`\"neighbourhood_group_cleansed\"`,`\"bedrooms\"`,`\"host_name\"`\n"
   ]
  },
  {
   "cell_type": "markdown",
   "id": "9983ab05",
   "metadata": {},
   "source": [
    "### Nettoyage des données pour la partie 2"
   ]
  },
  {
   "cell_type": "code",
   "execution_count": 24,
   "id": "5882d286",
   "metadata": {},
   "outputs": [],
   "source": [
    "s.nettoyage2()"
   ]
  },
  {
   "cell_type": "markdown",
   "id": "90fbb921",
   "metadata": {},
   "source": [
    "### Contrainte: Prix/Nuit <a name=\"Q5\"></a>"
   ]
  },
  {
   "cell_type": "code",
   "execution_count": 25,
   "id": "8a1899a2",
   "metadata": {
    "scrolled": false
   },
   "outputs": [],
   "source": [
    "s.pricenight()"
   ]
  },
  {
   "cell_type": "markdown",
   "id": "8fc88084",
   "metadata": {},
   "source": [
    "### Type de location <a name=\"Q6\"></a>"
   ]
  },
  {
   "cell_type": "code",
   "execution_count": 26,
   "id": "49fb5d7d",
   "metadata": {
    "scrolled": false
   },
   "outputs": [],
   "source": [
    "s.proptype()"
   ]
  },
  {
   "cell_type": "markdown",
   "id": "cc638eab",
   "metadata": {},
   "source": [
    "### Choix Quartier <a name=\"Q7\"></a>"
   ]
  },
  {
   "cell_type": "code",
   "execution_count": 27,
   "id": "a6006ca1",
   "metadata": {
    "scrolled": false
   },
   "outputs": [],
   "source": [
    "s.quartype()"
   ]
  },
  {
   "cell_type": "markdown",
   "id": "9179e271",
   "metadata": {},
   "source": [
    "### Installations <a name=\"Q8\"></a>"
   ]
  },
  {
   "cell_type": "code",
   "execution_count": 28,
   "id": "fc538340",
   "metadata": {},
   "outputs": [],
   "source": [
    "s.instatype()"
   ]
  },
  {
   "cell_type": "markdown",
   "id": "da85f4ff",
   "metadata": {},
   "source": [
    "### Disponibilité par date <a name=\"Q9\"></a>"
   ]
  },
  {
   "cell_type": "code",
   "execution_count": 29,
   "id": "e61e936e",
   "metadata": {
    "scrolled": false
   },
   "outputs": [],
   "source": [
    "s.logement_dispo()"
   ]
  },
  {
   "cell_type": "markdown",
   "id": "5c590708",
   "metadata": {},
   "source": [
    "### Barre de Recherche ! <a name=\"QBonus\"></a>"
   ]
  },
  {
   "cell_type": "code",
   "execution_count": 30,
   "id": "76cb2b72",
   "metadata": {
    "scrolled": false
   },
   "outputs": [],
   "source": [
    "s.recherche()"
   ]
  }
 ],
 "metadata": {
  "kernelspec": {
   "display_name": "Python 3 (ipykernel)",
   "language": "python",
   "name": "python3"
  },
  "language_info": {
   "codemirror_mode": {
    "name": "ipython",
    "version": 3
   },
   "file_extension": ".py",
   "mimetype": "text/x-python",
   "name": "python",
   "nbconvert_exporter": "python",
   "pygments_lexer": "ipython3",
   "version": "3.9.13"
  }
 },
 "nbformat": 4,
 "nbformat_minor": 5
}
